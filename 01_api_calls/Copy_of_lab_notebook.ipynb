{
  "cells": [
    {
      "cell_type": "markdown",
      "metadata": {
        "id": "view-in-github",
        "colab_type": "text"
      },
      "source": [
        "<a href=\"https://colab.research.google.com/github/chetubarot/labs/blob/main/Copy_of_lab_notebook.ipynb\" target=\"_parent\"><img src=\"https://colab.research.google.com/assets/colab-badge.svg\" alt=\"Open In Colab\"/></a>"
      ]
    },
    {
      "cell_type": "markdown",
      "metadata": {
        "id": "ahHJ44S1lbLi"
      },
      "source": [
        "# Web Scraping\n",
        "\n",
        "Last time, we looked at REST API's as a source of data. You can get lots of very high quality data this way.\n",
        "\n",
        "Some data is available online, but not through an API. When this is the case, some times you can simply copy and paste the data into a .csv file and go on with your life. But if there are many records to parse and combine into a dataset, that might be impossible. Can we automate the collection of data from online sources?\n",
        "\n",
        "This is called web scraping. Broadly speaking: Web scraping is legal, but what you plan to do with the results of your scraping might not be. In general, most sites do not want you to scrape them at this point, but there is not really a way to stop you if you are sufficiently motivated. Be careful to use server resources respectfully (not too many requests per unit time), think seriously about privacy concerns, and be careful who you share your work with."
      ]
    },
    {
      "cell_type": "markdown",
      "metadata": {
        "id": "DTDC2YeVlbLi"
      },
      "source": [
        "We'll be scraping data about used cars in Charlottesville from Craigslist. This will give us a chance to put those wrangling, EDA, and visualization skills to work.\n",
        "\n",
        "We'll use the `requests` package, as we did with API's, but will be getting the kinds of web pages you see everyday. Again, we'll use a header with a user-agent that masks our true identity so that we're not rejected by the server. This particular url points to the car listings for Craigslist in Charlottesville."
      ]
    },
    {
      "cell_type": "code",
      "execution_count": null,
      "metadata": {
        "id": "2Ng_3VnHlbLj"
      },
      "outputs": [],
      "source": [
        "import numpy as np\n",
        "import matplotlib.pyplot as plt\n",
        "import pandas as pd\n",
        "import seaborn as sns\n",
        "\n",
        "import requests # Page requests\n",
        "\n",
        "header = {'User-Agent': 'Mozilla/5.0 (Windows NT 10.0; Win64; x64; rv:124.0) Gecko/20100101 Firefox/124.0'}\n",
        "url = 'https://charlottesville.craigslist.org/search/cta?purveyor=owner#search=1~gallery~0~0'\n",
        "raw = requests.get(url,headers=header) # Get page"
      ]
    },
    {
      "cell_type": "markdown",
      "metadata": {
        "id": "4PllIbOplbLj"
      },
      "source": [
        "Now that we have that particular page available locally, we want to **parse** it and get results from it. To do that, we can use a package called `beautifulSoup` or `bs4`.\n",
        "\n",
        "What does `beautifulSoup` do for us? Let's go to the web page of interest. You probably see something like this:\n",
        "\n",
        "![Listings](craigslist.png \"Craigslist\")\n",
        "\n",
        "But if you \"view page source\" -- which is CTRL+U -- in Chrome, you see what the computer sees:\n",
        "\n",
        "![Listings](craigslist_source.png \"Craigslist\")\n",
        "\n",
        "Since your web browser needs lots of instructions about how to render the text, pictures, and other content on your web page, there are a lot of clues about where the data live and how to extricate them from a page. These clues are called **tags**. If you wander the source for the search page on cars, you see a particular `class = \"cl-static-search-result\"` term appear attached to each listing:\n",
        "\n",
        "![Listings](listing.png \"Craigslist\")\n",
        "\n",
        "This structure can be exploited to search the page for information. This kind of detective work -- looking at the page source, finding the interesting tages, and then searching the page with `beautifulSoup` -- is the basic job of web scraping."
      ]
    },
    {
      "cell_type": "markdown",
      "metadata": {
        "id": "VdfDt6uqlbLj"
      },
      "source": [
        "## 1. Pick something else on Craigslist: Musical instruments, roommates, antiques, etc. Look at the search page and its source code. Record which fields/data you would like to gather, and what kinds of EDA you'd do with it."
      ]
    },
    {
      "cell_type": "markdown",
      "metadata": {
        "id": "KRpMZS7nlbLj"
      },
      "source": [
        "The following code chunk takes the raw content from `requests` and turns it into a beautifulSoup object, which can search the page and return results for us:"
      ]
    },
    {
      "cell_type": "code",
      "execution_count": null,
      "metadata": {
        "id": "ZiHhKx5DlbLj"
      },
      "outputs": [],
      "source": [
        "from bs4 import BeautifulSoup as soup # HTML parser\n",
        "bsObj = soup(raw.content,'html.parser') # Parse the html\n",
        "listings = bsObj.find_all(class_=\"cl-static-search-result\") # Find all listings"
      ]
    },
    {
      "cell_type": "markdown",
      "metadata": {
        "id": "mEk5wcxIlbLj"
      },
      "source": [
        "Why is the argument `class_` and not just `class`? The word `class` is a reserved keyword for Python, and cannot be used by anyone else, similar to `True` and `False`. But since we want the `class = \"cl-static-search-result\"` terms, we need to use the `class_` argument to the `.find_all` method.\n",
        "\n",
        "The `.find_all` function dredges the entire page and finds all the instances of `class = \"cl-static-search-result\"`, resulting in a list of entries. We can then parse the entries.\n",
        "\n",
        "For each listing, we'll use the `.find` method to search within the listing record for specific information. To get the information we want, we can then use `.get_text()`.\n",
        "\n",
        "In the code below, two more things happen.\n",
        "\n",
        "First, I would like to get the brand of the car from the post title, if possible. To do this, I split the title into words using `title.split()`, and then I use a list comprehension to look over every word in the title and check whether it appears in the `brands` list.\n",
        "\n",
        "Second, I would like to get the year the car was built, so I can determine the vehicle's age. To do this, I use a thing called **regular expressions** that provides a language for expressing patterns. Do I remember how to do this off the top of my head? No, I read a few pages in a book and looked on StackOverflow for answers. Roughly, in order to express the idea \"any year starting with 20xx,\" you can write `20[0-9][0-9]`, and for \"any year starting with 19xx,\" you can write `19[0-9][0-9]`. The `[0-9]`'s act as wildcards for any digit. This allows me to use the `re` package to find any instances of year-like numbers in the title text, using `re.search(r'20[0-9][0-9]|19[0-9][0-9]', title )`.\n",
        "\n",
        "This is all nested in a for-loop over the listings, and the data is appended to a list."
      ]
    },
    {
      "cell_type": "code",
      "source": [
        "listings[0].find(class_='title').get_text() #use .get_text to remove the dev..."
      ],
      "metadata": {
        "id": "3A6PntYklik3",
        "outputId": "131bb085-7c67-418a-b1d1-239e803e7b1a",
        "colab": {
          "base_uri": "https://localhost:8080/",
          "height": 35
        }
      },
      "execution_count": null,
      "outputs": [
        {
          "output_type": "execute_result",
          "data": {
            "text/plain": [
              "'2010 Jaguar XK'"
            ],
            "application/vnd.google.colaboratory.intrinsic+json": {
              "type": "string"
            }
          },
          "metadata": {},
          "execution_count": 12
        }
      ]
    },
    {
      "cell_type": "code",
      "source": [
        "listings[0].find(href=True)['href']"
      ],
      "metadata": {
        "id": "aA9EFvBkm1os",
        "outputId": "4133cde1-d89b-4837-c301-f62925c8dbea",
        "colab": {
          "base_uri": "https://localhost:8080/",
          "height": 35
        }
      },
      "execution_count": null,
      "outputs": [
        {
          "output_type": "execute_result",
          "data": {
            "text/plain": [
              "'https://charlottesville.craigslist.org/cto/d/boston-2010-jaguar-xk/7785824836.html'"
            ],
            "application/vnd.google.colaboratory.intrinsic+json": {
              "type": "string"
            }
          },
          "metadata": {},
          "execution_count": 8
        }
      ]
    },
    {
      "cell_type": "code",
      "execution_count": null,
      "metadata": {
        "id": "Tjkz83cPlbLk"
      },
      "outputs": [],
      "source": [
        "import re # Regular expressions\n",
        "\n",
        "brands = ['honda', 'dodge','toyota','ford','tesla','gmc','jeep','bmw','mitsubishi','mazda',\n",
        "          'volvo','audi','volkswagen','chevy','chevrolet','acura','kia','subaru','lexus',\n",
        "          'cadillac','buick','porsche','infiniti']\n",
        "\n",
        "data = [] # We'll save our listings in this object\n",
        "for k in range( len(listings) ):\n",
        "    title = listings[k].find('div',class_='title').get_text().lower()\n",
        "    price = listings[k].find('div',class_='price').get_text()\n",
        "    link = listings[k].find(href=True)['href']\n",
        "    # Get brand from the title string:\n",
        "    words = title.split()\n",
        "    hits = [word for word in words if word in brands] # Find brands in the title\n",
        "    if len(hits) == 0:\n",
        "        brand = 'missing'\n",
        "    else:\n",
        "        brand = hits[0]\n",
        "    # Get years from title string:\n",
        "    regex_search = re.search(r'20[0-9][0-9]|19[0-9][0-9]', title ) # Find year references\n",
        "    if regex_search is None: # If no hits, record year as missing value\n",
        "        year = np.nan\n",
        "    else: # If hits, record year as first match\n",
        "        year = regex_search.group(0)\n",
        "    #\n",
        "    data.append({'title':title,'price':price,'year':year,'link':link,'brand':brand})"
      ]
    },
    {
      "cell_type": "markdown",
      "metadata": {
        "id": "1EP8E1iSlbLk"
      },
      "source": [
        "## 2. Get your search results of interest and extract data from them, using code similar to what's above."
      ]
    },
    {
      "cell_type": "markdown",
      "metadata": {
        "id": "rdGGxq2JlbLk"
      },
      "source": [
        "\n",
        "With the data scraped from Craigslist, we can put it in a dataframe and wrangle it. Of course, price and year come in as text, not numbers, and need to be typecast/coerced:"
      ]
    },
    {
      "cell_type": "code",
      "execution_count": null,
      "metadata": {
        "id": "OqgvKupZlbLk",
        "outputId": "2ebd1007-fe06-4241-dbd9-5521250f8b76",
        "colab": {
          "base_uri": "https://localhost:8080/",
          "height": 223
        }
      },
      "outputs": [
        {
          "output_type": "stream",
          "name": "stdout",
          "text": [
            "(93, 6)\n"
          ]
        },
        {
          "output_type": "execute_result",
          "data": {
            "text/plain": [
              "                         title  price    year  \\\n",
              "0               2010 jaguar xk  21900  2010.0   \n",
              "1        2015 honda odyssey ex   9950  2015.0   \n",
              "2         2005 hyundai elantra   1200  2005.0   \n",
              "3         2007 f250 king ranch  17500  2007.0   \n",
              "4  1997 dodge 2500 4x4 cummins   9500  1997.0   \n",
              "\n",
              "                                                link    brand   age  \n",
              "0  https://charlottesville.craigslist.org/cto/d/b...  missing  15.0  \n",
              "1  https://charlottesville.craigslist.org/cto/d/h...    honda  10.0  \n",
              "2  https://charlottesville.craigslist.org/cto/d/a...  missing  20.0  \n",
              "3  https://charlottesville.craigslist.org/cto/d/w...  missing  18.0  \n",
              "4  https://charlottesville.craigslist.org/cto/d/l...    dodge  28.0  "
            ],
            "text/html": [
              "\n",
              "  <div id=\"df-d9ad5419-3d34-4e56-9c3d-d59404761d8c\" class=\"colab-df-container\">\n",
              "    <div>\n",
              "<style scoped>\n",
              "    .dataframe tbody tr th:only-of-type {\n",
              "        vertical-align: middle;\n",
              "    }\n",
              "\n",
              "    .dataframe tbody tr th {\n",
              "        vertical-align: top;\n",
              "    }\n",
              "\n",
              "    .dataframe thead th {\n",
              "        text-align: right;\n",
              "    }\n",
              "</style>\n",
              "<table border=\"1\" class=\"dataframe\">\n",
              "  <thead>\n",
              "    <tr style=\"text-align: right;\">\n",
              "      <th></th>\n",
              "      <th>title</th>\n",
              "      <th>price</th>\n",
              "      <th>year</th>\n",
              "      <th>link</th>\n",
              "      <th>brand</th>\n",
              "      <th>age</th>\n",
              "    </tr>\n",
              "  </thead>\n",
              "  <tbody>\n",
              "    <tr>\n",
              "      <th>0</th>\n",
              "      <td>2010 jaguar xk</td>\n",
              "      <td>21900</td>\n",
              "      <td>2010.0</td>\n",
              "      <td>https://charlottesville.craigslist.org/cto/d/b...</td>\n",
              "      <td>missing</td>\n",
              "      <td>15.0</td>\n",
              "    </tr>\n",
              "    <tr>\n",
              "      <th>1</th>\n",
              "      <td>2015 honda odyssey ex</td>\n",
              "      <td>9950</td>\n",
              "      <td>2015.0</td>\n",
              "      <td>https://charlottesville.craigslist.org/cto/d/h...</td>\n",
              "      <td>honda</td>\n",
              "      <td>10.0</td>\n",
              "    </tr>\n",
              "    <tr>\n",
              "      <th>2</th>\n",
              "      <td>2005 hyundai elantra</td>\n",
              "      <td>1200</td>\n",
              "      <td>2005.0</td>\n",
              "      <td>https://charlottesville.craigslist.org/cto/d/a...</td>\n",
              "      <td>missing</td>\n",
              "      <td>20.0</td>\n",
              "    </tr>\n",
              "    <tr>\n",
              "      <th>3</th>\n",
              "      <td>2007 f250 king ranch</td>\n",
              "      <td>17500</td>\n",
              "      <td>2007.0</td>\n",
              "      <td>https://charlottesville.craigslist.org/cto/d/w...</td>\n",
              "      <td>missing</td>\n",
              "      <td>18.0</td>\n",
              "    </tr>\n",
              "    <tr>\n",
              "      <th>4</th>\n",
              "      <td>1997 dodge 2500 4x4 cummins</td>\n",
              "      <td>9500</td>\n",
              "      <td>1997.0</td>\n",
              "      <td>https://charlottesville.craigslist.org/cto/d/l...</td>\n",
              "      <td>dodge</td>\n",
              "      <td>28.0</td>\n",
              "    </tr>\n",
              "  </tbody>\n",
              "</table>\n",
              "</div>\n",
              "    <div class=\"colab-df-buttons\">\n",
              "\n",
              "  <div class=\"colab-df-container\">\n",
              "    <button class=\"colab-df-convert\" onclick=\"convertToInteractive('df-d9ad5419-3d34-4e56-9c3d-d59404761d8c')\"\n",
              "            title=\"Convert this dataframe to an interactive table.\"\n",
              "            style=\"display:none;\">\n",
              "\n",
              "  <svg xmlns=\"http://www.w3.org/2000/svg\" height=\"24px\" viewBox=\"0 -960 960 960\">\n",
              "    <path d=\"M120-120v-720h720v720H120Zm60-500h600v-160H180v160Zm220 220h160v-160H400v160Zm0 220h160v-160H400v160ZM180-400h160v-160H180v160Zm440 0h160v-160H620v160ZM180-180h160v-160H180v160Zm440 0h160v-160H620v160Z\"/>\n",
              "  </svg>\n",
              "    </button>\n",
              "\n",
              "  <style>\n",
              "    .colab-df-container {\n",
              "      display:flex;\n",
              "      gap: 12px;\n",
              "    }\n",
              "\n",
              "    .colab-df-convert {\n",
              "      background-color: #E8F0FE;\n",
              "      border: none;\n",
              "      border-radius: 50%;\n",
              "      cursor: pointer;\n",
              "      display: none;\n",
              "      fill: #1967D2;\n",
              "      height: 32px;\n",
              "      padding: 0 0 0 0;\n",
              "      width: 32px;\n",
              "    }\n",
              "\n",
              "    .colab-df-convert:hover {\n",
              "      background-color: #E2EBFA;\n",
              "      box-shadow: 0px 1px 2px rgba(60, 64, 67, 0.3), 0px 1px 3px 1px rgba(60, 64, 67, 0.15);\n",
              "      fill: #174EA6;\n",
              "    }\n",
              "\n",
              "    .colab-df-buttons div {\n",
              "      margin-bottom: 4px;\n",
              "    }\n",
              "\n",
              "    [theme=dark] .colab-df-convert {\n",
              "      background-color: #3B4455;\n",
              "      fill: #D2E3FC;\n",
              "    }\n",
              "\n",
              "    [theme=dark] .colab-df-convert:hover {\n",
              "      background-color: #434B5C;\n",
              "      box-shadow: 0px 1px 3px 1px rgba(0, 0, 0, 0.15);\n",
              "      filter: drop-shadow(0px 1px 2px rgba(0, 0, 0, 0.3));\n",
              "      fill: #FFFFFF;\n",
              "    }\n",
              "  </style>\n",
              "\n",
              "    <script>\n",
              "      const buttonEl =\n",
              "        document.querySelector('#df-d9ad5419-3d34-4e56-9c3d-d59404761d8c button.colab-df-convert');\n",
              "      buttonEl.style.display =\n",
              "        google.colab.kernel.accessAllowed ? 'block' : 'none';\n",
              "\n",
              "      async function convertToInteractive(key) {\n",
              "        const element = document.querySelector('#df-d9ad5419-3d34-4e56-9c3d-d59404761d8c');\n",
              "        const dataTable =\n",
              "          await google.colab.kernel.invokeFunction('convertToInteractive',\n",
              "                                                    [key], {});\n",
              "        if (!dataTable) return;\n",
              "\n",
              "        const docLinkHtml = 'Like what you see? Visit the ' +\n",
              "          '<a target=\"_blank\" href=https://colab.research.google.com/notebooks/data_table.ipynb>data table notebook</a>'\n",
              "          + ' to learn more about interactive tables.';\n",
              "        element.innerHTML = '';\n",
              "        dataTable['output_type'] = 'display_data';\n",
              "        await google.colab.output.renderOutput(dataTable, element);\n",
              "        const docLink = document.createElement('div');\n",
              "        docLink.innerHTML = docLinkHtml;\n",
              "        element.appendChild(docLink);\n",
              "      }\n",
              "    </script>\n",
              "  </div>\n",
              "\n",
              "\n",
              "<div id=\"df-2beccb8a-6d22-431e-8c4a-f036c0010592\">\n",
              "  <button class=\"colab-df-quickchart\" onclick=\"quickchart('df-2beccb8a-6d22-431e-8c4a-f036c0010592')\"\n",
              "            title=\"Suggest charts\"\n",
              "            style=\"display:none;\">\n",
              "\n",
              "<svg xmlns=\"http://www.w3.org/2000/svg\" height=\"24px\"viewBox=\"0 0 24 24\"\n",
              "     width=\"24px\">\n",
              "    <g>\n",
              "        <path d=\"M19 3H5c-1.1 0-2 .9-2 2v14c0 1.1.9 2 2 2h14c1.1 0 2-.9 2-2V5c0-1.1-.9-2-2-2zM9 17H7v-7h2v7zm4 0h-2V7h2v10zm4 0h-2v-4h2v4z\"/>\n",
              "    </g>\n",
              "</svg>\n",
              "  </button>\n",
              "\n",
              "<style>\n",
              "  .colab-df-quickchart {\n",
              "      --bg-color: #E8F0FE;\n",
              "      --fill-color: #1967D2;\n",
              "      --hover-bg-color: #E2EBFA;\n",
              "      --hover-fill-color: #174EA6;\n",
              "      --disabled-fill-color: #AAA;\n",
              "      --disabled-bg-color: #DDD;\n",
              "  }\n",
              "\n",
              "  [theme=dark] .colab-df-quickchart {\n",
              "      --bg-color: #3B4455;\n",
              "      --fill-color: #D2E3FC;\n",
              "      --hover-bg-color: #434B5C;\n",
              "      --hover-fill-color: #FFFFFF;\n",
              "      --disabled-bg-color: #3B4455;\n",
              "      --disabled-fill-color: #666;\n",
              "  }\n",
              "\n",
              "  .colab-df-quickchart {\n",
              "    background-color: var(--bg-color);\n",
              "    border: none;\n",
              "    border-radius: 50%;\n",
              "    cursor: pointer;\n",
              "    display: none;\n",
              "    fill: var(--fill-color);\n",
              "    height: 32px;\n",
              "    padding: 0;\n",
              "    width: 32px;\n",
              "  }\n",
              "\n",
              "  .colab-df-quickchart:hover {\n",
              "    background-color: var(--hover-bg-color);\n",
              "    box-shadow: 0 1px 2px rgba(60, 64, 67, 0.3), 0 1px 3px 1px rgba(60, 64, 67, 0.15);\n",
              "    fill: var(--button-hover-fill-color);\n",
              "  }\n",
              "\n",
              "  .colab-df-quickchart-complete:disabled,\n",
              "  .colab-df-quickchart-complete:disabled:hover {\n",
              "    background-color: var(--disabled-bg-color);\n",
              "    fill: var(--disabled-fill-color);\n",
              "    box-shadow: none;\n",
              "  }\n",
              "\n",
              "  .colab-df-spinner {\n",
              "    border: 2px solid var(--fill-color);\n",
              "    border-color: transparent;\n",
              "    border-bottom-color: var(--fill-color);\n",
              "    animation:\n",
              "      spin 1s steps(1) infinite;\n",
              "  }\n",
              "\n",
              "  @keyframes spin {\n",
              "    0% {\n",
              "      border-color: transparent;\n",
              "      border-bottom-color: var(--fill-color);\n",
              "      border-left-color: var(--fill-color);\n",
              "    }\n",
              "    20% {\n",
              "      border-color: transparent;\n",
              "      border-left-color: var(--fill-color);\n",
              "      border-top-color: var(--fill-color);\n",
              "    }\n",
              "    30% {\n",
              "      border-color: transparent;\n",
              "      border-left-color: var(--fill-color);\n",
              "      border-top-color: var(--fill-color);\n",
              "      border-right-color: var(--fill-color);\n",
              "    }\n",
              "    40% {\n",
              "      border-color: transparent;\n",
              "      border-right-color: var(--fill-color);\n",
              "      border-top-color: var(--fill-color);\n",
              "    }\n",
              "    60% {\n",
              "      border-color: transparent;\n",
              "      border-right-color: var(--fill-color);\n",
              "    }\n",
              "    80% {\n",
              "      border-color: transparent;\n",
              "      border-right-color: var(--fill-color);\n",
              "      border-bottom-color: var(--fill-color);\n",
              "    }\n",
              "    90% {\n",
              "      border-color: transparent;\n",
              "      border-bottom-color: var(--fill-color);\n",
              "    }\n",
              "  }\n",
              "</style>\n",
              "\n",
              "  <script>\n",
              "    async function quickchart(key) {\n",
              "      const quickchartButtonEl =\n",
              "        document.querySelector('#' + key + ' button');\n",
              "      quickchartButtonEl.disabled = true;  // To prevent multiple clicks.\n",
              "      quickchartButtonEl.classList.add('colab-df-spinner');\n",
              "      try {\n",
              "        const charts = await google.colab.kernel.invokeFunction(\n",
              "            'suggestCharts', [key], {});\n",
              "      } catch (error) {\n",
              "        console.error('Error during call to suggestCharts:', error);\n",
              "      }\n",
              "      quickchartButtonEl.classList.remove('colab-df-spinner');\n",
              "      quickchartButtonEl.classList.add('colab-df-quickchart-complete');\n",
              "    }\n",
              "    (() => {\n",
              "      let quickchartButtonEl =\n",
              "        document.querySelector('#df-2beccb8a-6d22-431e-8c4a-f036c0010592 button');\n",
              "      quickchartButtonEl.style.display =\n",
              "        google.colab.kernel.accessAllowed ? 'block' : 'none';\n",
              "    })();\n",
              "  </script>\n",
              "</div>\n",
              "\n",
              "    </div>\n",
              "  </div>\n"
            ],
            "application/vnd.google.colaboratory.intrinsic+json": {
              "type": "dataframe",
              "variable_name": "df",
              "summary": "{\n  \"name\": \"df\",\n  \"rows\": 93,\n  \"fields\": [\n    {\n      \"column\": \"title\",\n      \"properties\": {\n        \"dtype\": \"string\",\n        \"num_unique_values\": 93,\n        \"samples\": [\n          \"2010 volkswagen golf\",\n          \"2006 mitsubishi endeavor awd ls\",\n          \"2008 acura tl\"\n        ],\n        \"semantic_type\": \"\",\n        \"description\": \"\"\n      }\n    },\n    {\n      \"column\": \"price\",\n      \"properties\": {\n        \"dtype\": \"number\",\n        \"std\": 8205,\n        \"min\": 1000,\n        \"max\": 38000,\n        \"num_unique_values\": 63,\n        \"samples\": [\n          10495,\n          7999,\n          21900\n        ],\n        \"semantic_type\": \"\",\n        \"description\": \"\"\n      }\n    },\n    {\n      \"column\": \"year\",\n      \"properties\": {\n        \"dtype\": \"number\",\n        \"std\": 13.41956455163873,\n        \"min\": 1958.0,\n        \"max\": 2021.0,\n        \"num_unique_values\": 35,\n        \"samples\": [\n          1992.0,\n          2003.0,\n          1996.0\n        ],\n        \"semantic_type\": \"\",\n        \"description\": \"\"\n      }\n    },\n    {\n      \"column\": \"link\",\n      \"properties\": {\n        \"dtype\": \"string\",\n        \"num_unique_values\": 93,\n        \"samples\": [\n          \"https://charlottesville.craigslist.org/cto/d/henrico-2010-volkswagen-golf/7783125171.html\",\n          \"https://charlottesville.craigslist.org/cto/d/charlottesville-2006-mitsubishi/7784157813.html\",\n          \"https://charlottesville.craigslist.org/cto/d/charlottesville-2008-acura-tl/7781590435.html\"\n        ],\n        \"semantic_type\": \"\",\n        \"description\": \"\"\n      }\n    },\n    {\n      \"column\": \"brand\",\n      \"properties\": {\n        \"dtype\": \"category\",\n        \"num_unique_values\": 19,\n        \"samples\": [\n          \"missing\",\n          \"buick\",\n          \"subaru\"\n        ],\n        \"semantic_type\": \"\",\n        \"description\": \"\"\n      }\n    },\n    {\n      \"column\": \"age\",\n      \"properties\": {\n        \"dtype\": \"number\",\n        \"std\": 13.41956455163873,\n        \"min\": 4.0,\n        \"max\": 67.0,\n        \"num_unique_values\": 35,\n        \"samples\": [\n          33.0,\n          22.0,\n          29.0\n        ],\n        \"semantic_type\": \"\",\n        \"description\": \"\"\n      }\n    }\n  ]\n}"
            }
          },
          "metadata": {},
          "execution_count": 7
        }
      ],
      "source": [
        "## Wrangle the data\n",
        "df = pd.DataFrame.from_dict(data)\n",
        "df['price'] = df['price'].str.replace('$','')\n",
        "df['price'] = df['price'].str.replace(',','')\n",
        "df['price'] = pd.to_numeric(df['price'],errors='coerce')\n",
        "df['year'] = pd.to_numeric(df['year'],errors='coerce')\n",
        "df['age'] = 2025-df['year']\n",
        "print(df.shape)\n",
        "df.to_csv('craigslist_cville_cars.csv') # Save data in case of a disaster\n",
        "df.head()"
      ]
    },
    {
      "cell_type": "markdown",
      "metadata": {
        "id": "CMulESgylbLk"
      },
      "source": [
        "With the data in and wrangled, we can now do EDA:"
      ]
    },
    {
      "cell_type": "code",
      "execution_count": null,
      "metadata": {
        "id": "jgqekquwlbLk"
      },
      "outputs": [],
      "source": [
        "# EDA for price and age:\n",
        "print(df['price'].describe())\n",
        "df['price'].hist(grid=False)\n",
        "plt.show()\n",
        "print(df['age'].describe())\n",
        "df['age'].hist(grid=False)\n",
        "plt.show()"
      ]
    },
    {
      "cell_type": "code",
      "execution_count": null,
      "metadata": {
        "id": "KcTGWd5flbLk"
      },
      "outputs": [],
      "source": [
        "# Price by brand:\n",
        "df.loc[:,['price','brand']].groupby('brand').describe()"
      ]
    },
    {
      "cell_type": "code",
      "execution_count": null,
      "metadata": {
        "id": "mkTRZ8A6lbLk"
      },
      "outputs": [],
      "source": [
        "# Age by brand:\n",
        "df.loc[:,['age','brand']].groupby('brand').describe()"
      ]
    },
    {
      "cell_type": "code",
      "execution_count": null,
      "metadata": {
        "id": "bbQpN0i7lbLk"
      },
      "outputs": [],
      "source": [
        "ax = sns.scatterplot(data=df, x='age', y='price',hue='brand')\n",
        "sns.move_legend(ax, \"upper left\", bbox_to_anchor=(1, 1))"
      ]
    },
    {
      "cell_type": "code",
      "execution_count": null,
      "metadata": {
        "id": "Igxk8NOKlbLk"
      },
      "outputs": [],
      "source": [
        "df['log_price'] = np.log(df['price'])\n",
        "df['log_age'] = np.log(df['age'])\n",
        "\n",
        "ax = sns.scatterplot(data=df, x='log_age', y='log_price',hue='brand')\n",
        "sns.move_legend(ax, \"upper left\", bbox_to_anchor=(1, 1))\n",
        "\n",
        "print(df.loc[:,['log_price','log_age']].cov())\n",
        "print(df.loc[:,['log_price','log_age']].corr())"
      ]
    },
    {
      "cell_type": "code",
      "execution_count": null,
      "metadata": {
        "id": "z8H9cDhUlbLk"
      },
      "outputs": [],
      "source": [
        "sns.jointplot(data=df, x='log_age', y='log_price',kind='hex')"
      ]
    },
    {
      "cell_type": "markdown",
      "metadata": {
        "id": "FyNP_vWdlbLk"
      },
      "source": [
        "## 3. Wrangle your data, do some EDA, and make some plots. Try to find some interesting relationships or stories to tell about your data."
      ]
    },
    {
      "cell_type": "markdown",
      "metadata": {
        "id": "38hG6zRwlbLk"
      },
      "source": [
        "The final thing we want to do is go from scraping a single page to crawling around.\n",
        "\n",
        "The idea here is that every web page is connected to some other page. By extracting links as we move from page to page, we can create a web crawler that wanders around for us, gathering information of interest.\n",
        "\n",
        "In this case, we want to use the search results to then visit each individual page for each listing. Since we saved the links to the web pages in the previous scrape, we can now simply for-loop over that column in the dataframe, visiting the page listing for each of the cars in the search results:"
      ]
    },
    {
      "cell_type": "code",
      "execution_count": null,
      "metadata": {
        "id": "2nm9PqdjlbLk"
      },
      "outputs": [],
      "source": [
        "import time # Time delays\n",
        "import random # Random numbers\n",
        "\n",
        "links = df['link']\n",
        "data = []\n",
        "for link in links: # about 3 minutes\n",
        "    time.sleep(random.randint(1, 3)) # Random delays\n",
        "    raw = requests.get(link,headers=header) # Get page\n",
        "    bsObj = soup(raw.content,'html.parser') # Parse the html\n",
        "    #\n",
        "    try:\n",
        "        year_post = bsObj.find(class_='attr important').find(class_ = 'valu year').get_text()\n",
        "    except:\n",
        "        year_post = np.nan\n",
        "    #\n",
        "    try:\n",
        "        condition = bsObj.find(class_='attr condition').find(href=True).get_text()\n",
        "    except:\n",
        "        condition = 'missing'\n",
        "    #\n",
        "    try:\n",
        "        cylinders = bsObj.find(class_='attr auto_cylinders').find(class_ = 'valu').get_text()\n",
        "        cylinders = cylinders.replace('\\n','')\n",
        "    except:\n",
        "        cylinders = 'missing'\n",
        "    #\n",
        "    try:\n",
        "        drivetrain = bsObj.find(class_='attr auto_drivetrain').find(href=True).get_text()\n",
        "    except:\n",
        "        drivetrain = 'missing'\n",
        "    #\n",
        "    try:\n",
        "        fuel = bsObj.find(class_='attr auto_fuel_type').find(href = True).get_text()\n",
        "    except:\n",
        "        fuel = 'missing'\n",
        "    #\n",
        "    try:\n",
        "        miles = bsObj.find(class_='attr auto_miles').find(class_ = 'valu').get_text()\n",
        "    except:\n",
        "        miles = np.nan\n",
        "    #\n",
        "    try:\n",
        "        color = bsObj.find(class_='attr auto_paint').find(href=True).get_text()\n",
        "    except:\n",
        "        color='missing'\n",
        "    #\n",
        "    try:\n",
        "        title = bsObj.find(class_='attr auto_title_status').find(href=True).get_text()\n",
        "    except:\n",
        "        title='missing'\n",
        "    #\n",
        "    try:\n",
        "        transmission = bsObj.find(class_='attr auto_transmission').find(href=True).get_text()\n",
        "    except:\n",
        "        transmission = 'missing'\n",
        "    #\n",
        "    try:\n",
        "        bodytype = bsObj.find(class_='attr auto_bodytype').find(href=True).get_text()\n",
        "    except:\n",
        "        bodytype = 'missing'\n",
        "    #\n",
        "    text = bsObj.find(id='postingbody').get_text()\n",
        "    text = text.replace('\\n','')\n",
        "    text = text.replace('QR Code Link to This Post','')\n",
        "    record = {'title':title,\n",
        "              'year_post':year_post,\n",
        "              'condition':condition,\n",
        "              'cylinders':cylinders,\n",
        "              'drivetrain':drivetrain,\n",
        "              'fuel':fuel,\n",
        "              'miles':miles,\n",
        "              'color':color,\n",
        "              'title':'title',\n",
        "              'transmission':transmission,\n",
        "              'bodytype':bodytype,\n",
        "              'text':text,}\n",
        "    data.append(record)"
      ]
    },
    {
      "cell_type": "markdown",
      "metadata": {
        "id": "MhGldXSSlbLk"
      },
      "source": [
        "What are the new features here?\n",
        "\n",
        "First, we don't want to overwhelm the servers, so we put a small delay between each request of a listing, `time.sleep(random.randint(1, 3))`. This waits a random amount of time between 1 and 3 seconds to avoid overwhelming their server.\n",
        "\n",
        "Second, we use the try/except block. This is a useful control structure in general, but especially for web scraping. Python tries the statements under `try:`, and if it fails, executes the steps under `except:`. This can happen, in this case, with missing data, which crashes the crawler. Instead, we put our missing codes into our dataframe right away.\n",
        "\n",
        "Third, we used `.find().find().get_text()` to find the data we're looking for. In general, the structure of mark-up langauges like HTML and XML makes it possible to \"drill down\" into their entries and extract the information of interest. This exploitation of mark-up languages could be the subject of a whole course on procuring data from the web."
      ]
    },
    {
      "cell_type": "markdown",
      "metadata": {
        "id": "ZZ1Ns9oXlbLk"
      },
      "source": [
        "With the data scraped, we can make a new dataframe, combine it with the old one using `pd.concat`, and do some wrangling to clean the data up:"
      ]
    },
    {
      "cell_type": "code",
      "execution_count": null,
      "metadata": {
        "id": "-kHTxsZGlbLk"
      },
      "outputs": [],
      "source": [
        "new_df = pd.DataFrame.from_dict(data)\n",
        "new_df.head()\n",
        "\n",
        "df = pd.concat([df,new_df],axis=1) # combine data frames\n",
        "df.head()\n",
        "\n",
        "df['miles'] = df['miles'].str.replace(',','')\n",
        "df['miles'] = pd.to_numeric(df['miles'],errors='coerce')\n",
        "\n",
        "df['year_post'] = df['year_post'].str.replace(',','')\n",
        "df['year_post'] = pd.to_numeric(df['year_post'],errors='coerce')\n",
        "df.to_csv('craiglist_cville_cars_long.csv')"
      ]
    },
    {
      "cell_type": "markdown",
      "metadata": {
        "id": "jnrxiyWWlbLl"
      },
      "source": [
        "## 4. From your search results, crawl to the links and extract more information about every listing in your original dataframe. Wrangle and do some EDA."
      ]
    }
  ],
  "metadata": {
    "language_info": {
      "name": "python"
    },
    "colab": {
      "provenance": [],
      "include_colab_link": true
    },
    "kernelspec": {
      "name": "python3",
      "display_name": "Python 3"
    }
  },
  "nbformat": 4,
  "nbformat_minor": 0
}